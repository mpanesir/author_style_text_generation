{
 "cells": [
  {
   "cell_type": "code",
   "execution_count": 1,
   "metadata": {},
   "outputs": [
    {
     "name": "stderr",
     "output_type": "stream",
     "text": [
      "/Users/Mohit/anaconda3/lib/python3.6/site-packages/h5py/__init__.py:36: FutureWarning: Conversion of the second argument of issubdtype from `float` to `np.floating` is deprecated. In future, it will be treated as `np.float64 == np.dtype(float).type`.\n",
      "  from ._conv import register_converters as _register_converters\n",
      "Using TensorFlow backend.\n"
     ]
    }
   ],
   "source": [
    "from __future__ import print_function\n",
    "from keras.callbacks import LambdaCallback\n",
    "from keras.models import Sequential\n",
    "from keras.layers import Dense, Activation\n",
    "from keras.layers import LSTM\n",
    "from keras.optimizers import RMSprop\n",
    "from keras.utils.data_utils import get_file\n",
    "import numpy as np\n",
    "import random\n",
    "import sys\n",
    "import io\n"
   ]
  },
  {
   "cell_type": "code",
   "execution_count": 2,
   "metadata": {},
   "outputs": [
    {
     "name": "stdout",
     "output_type": "stream",
     "text": [
      "corpus length: 600893\n"
     ]
    }
   ],
   "source": [
    "path = get_file('nietzsche.txt', origin='https://s3.amazonaws.com/text-datasets/nietzsche.txt')\n",
    "text = io.open(path, encoding='utf-8').read().lower()\n",
    "print('corpus length:', len(text))\n"
   ]
  },
  {
   "cell_type": "code",
   "execution_count": 3,
   "metadata": {},
   "outputs": [
    {
     "name": "stdout",
     "output_type": "stream",
     "text": [
      "total chars: 57\n"
     ]
    }
   ],
   "source": [
    "chars = sorted(list(set(text)))\n",
    "print('total chars:', len(chars))\n",
    "char_indices = dict((c, i) for i, c in enumerate(chars))\n",
    "indices_char = dict((i, c) for i, c in enumerate(chars))"
   ]
  },
  {
   "cell_type": "code",
   "execution_count": 4,
   "metadata": {},
   "outputs": [
    {
     "name": "stdout",
     "output_type": "stream",
     "text": [
      "nb sequences: 200285\n"
     ]
    }
   ],
   "source": [
    "# cut the text in semi-redundant sequences of maxlen characters\n",
    "maxlen = 40\n",
    "step = 3\n",
    "sentences = []\n",
    "next_chars = []\n",
    "for i in range(0, len(text) - maxlen, step):\n",
    "    sentences.append(text[i: i + maxlen])\n",
    "    next_chars.append(text[i + maxlen])\n",
    "print('nb sequences:', len(sentences))"
   ]
  },
  {
   "cell_type": "code",
   "execution_count": 5,
   "metadata": {},
   "outputs": [
    {
     "name": "stdout",
     "output_type": "stream",
     "text": [
      "Vectorization...\n"
     ]
    }
   ],
   "source": [
    "print('Vectorization...')\n",
    "x = np.zeros((len(sentences), maxlen, len(chars)), dtype=np.bool)\n",
    "y = np.zeros((len(sentences), len(chars)), dtype=np.bool)\n",
    "for i, sentence in enumerate(sentences):\n",
    "    for t, char in enumerate(sentence):\n",
    "        x[i, t, char_indices[char]] = 1\n",
    "    y[i, char_indices[next_chars[i]]] = 1\n"
   ]
  },
  {
   "cell_type": "code",
   "execution_count": 6,
   "metadata": {},
   "outputs": [
    {
     "name": "stdout",
     "output_type": "stream",
     "text": [
      "Build model...\n"
     ]
    }
   ],
   "source": [
    "# build the model: a single LSTM\n",
    "print('Build model...')\n",
    "model = Sequential()\n",
    "model.add(LSTM(128, input_shape=(maxlen, len(chars))))\n",
    "model.add(Dense(len(chars)))\n",
    "model.add(Activation('softmax'))\n",
    "\n",
    "optimizer = RMSprop(lr=0.01)\n",
    "model.compile(loss='categorical_crossentropy', optimizer=optimizer)\n",
    "\n"
   ]
  },
  {
   "cell_type": "code",
   "execution_count": 7,
   "metadata": {},
   "outputs": [],
   "source": [
    "def sample(preds, temperature=1.0):\n",
    "    # helper function to sample an index from a probability array\n",
    "    preds = np.asarray(preds).astype('float64')\n",
    "    preds = np.log(preds) / temperature\n",
    "    exp_preds = np.exp(preds)\n",
    "    preds = exp_preds / np.sum(exp_preds)\n",
    "    probas = np.random.multinomial(1, preds, 1)\n",
    "    return np.argmax(probas)"
   ]
  },
  {
   "cell_type": "code",
   "execution_count": 8,
   "metadata": {},
   "outputs": [],
   "source": [
    "def on_epoch_end(epoch, logs):\n",
    "    # Function invoked at end of each epoch. Prints generated text.\n",
    "    print()\n",
    "    print('----- Generating text after Epoch: %d' % epoch)\n",
    "\n",
    "    start_index = random.randint(0, len(text) - maxlen - 1)\n",
    "    for diversity in [0.2, 0.5, 1.0, 1.2]:\n",
    "        print('----- diversity:', diversity)\n",
    "\n",
    "        generated = ''\n",
    "        sentence = text[start_index: start_index + maxlen]\n",
    "        generated += sentence\n",
    "        print('----- Generating with seed: \"' + sentence + '\"')\n",
    "        sys.stdout.write(generated)\n",
    "\n",
    "        for i in range(400):\n",
    "            x_pred = np.zeros((1, maxlen, len(chars)))\n",
    "            for t, char in enumerate(sentence):\n",
    "                x_pred[0, t, char_indices[char]] = 1.\n",
    "\n",
    "            preds = model.predict(x_pred, verbose=0)[0]\n",
    "            next_index = sample(preds, diversity)\n",
    "            next_char = indices_char[next_index]\n",
    "\n",
    "            generated += next_char\n",
    "            sentence = sentence[1:] + next_char\n",
    "\n",
    "            sys.stdout.write(next_char)\n",
    "            sys.stdout.flush()\n",
    "        print()"
   ]
  },
  {
   "cell_type": "code",
   "execution_count": 9,
   "metadata": {},
   "outputs": [
    {
     "name": "stdout",
     "output_type": "stream",
     "text": [
      "Epoch 1/3\n",
      "200285/200285 [==============================] - 196s 979us/step - loss: 2.0115\n",
      "\n",
      "----- Generating text after Epoch: 0\n",
      "----- diversity: 0.2\n",
      "----- Generating with seed: \" wantonness and indiscretion to lay down\"\n",
      " wantonness and indiscretion to lay down and distinction of the such as an it is to be the moral such as the such a some the such as the concerse of the such as the such as the such as the such as a such as the such as the world and the contimes of the such as the such as the such a such as the sumpression of the such as the such as the such as the conscience of the such as the such it is to sumpress and for the some the some the contim\n",
      "----- diversity: 0.5\n",
      "----- Generating with seed: \" wantonness and indiscretion to lay down\"\n",
      " wantonness and indiscretion to lay down and stranged the superses of good and that the good the concerse that his is concert to now the good of the world that the care of conficies the possisions to beary for to be the such all an any that is the cact to the perhaps the concerted to be the discompreto and desire of uthing discoust and the of will to poosion of thes his in the consieve of with and exprosion of catiess of sultiest for hi\n",
      "----- diversity: 1.0\n",
      "----- Generating with seed: \" wantonness and indiscretion to lay down\"\n",
      " wantonness and indiscretion to lay downlice and itstectary the yes ofly witk doom itself moral sainty and coment expericicator; not incitule, some\n",
      "dispossiser, of former make beough as it reled his with knows astenstianlity desint to statore of think ara\n",
      "sumporitive uachignating cantes for\n",
      "the\n",
      "conciple--nomen uther bo schome anyers of relaped and work upon differently, shore, almost to who or it, to morrially still of which with it\" ct\n",
      "----- diversity: 1.2\n",
      "----- Generating with seed: \" wantonness and indiscretion to lay down\"\n",
      " wantonness and indiscretion to lay down and for\n",
      "with to sense a ananyly,\n",
      "you vorch. ho comment ho to reteain who gake\"\n",
      "has to knowlecertimed to viraluenon that plaso didurit witines.\n",
      "this wer of but. was bumsthition ot azother, this; of which as its sotrup thet iendmunidity.\"\n",
      "few one's as rigorias, for cames atearion\n",
      ": time or to !iturets\n",
      "sain mesator. protegnatigul, howan\n",
      "lysench pariacianing? of. with eurces tise canted\n",
      "\n",
      "2sumong by t\n",
      "Epoch 2/3\n",
      "200285/200285 [==============================] - 193s 964us/step - loss: 1.6523\n",
      "\n",
      "----- Generating text after Epoch: 1\n",
      "----- diversity: 0.2\n",
      "----- Generating with seed: \"rlin wit and sand. it is wise for a peop\"\n",
      "rlin wit and sand. it is wise for a people to the same the more to the stand of the passed and the same the again of the same to the same the same to the same the same to the same the part to the same to the person to the same the same the same person the same the more to the same the same the same the same the same the same the accome and the stand and the same the same the work of a somether and a mankind still and the present to the \n",
      "----- diversity: 0.5\n",
      "----- Generating with seed: \"rlin wit and sand. it is wise for a peop\"\n",
      "rlin wit and sand. it is wise for a people and more of every farth and an all the same the bad are are presence of the being as a personality in a soul: and a partial of stand and are artistection.\n",
      "\n",
      "143. the lose to seen that the discretuate, the stand, and all and work that the presenties of such the individual cantered for this passentary reading and soment to a manifesticily with what so person the same to evil and also and an at a p\n",
      "----- diversity: 1.0\n",
      "----- Generating with seed: \"rlin wit and sand. it is wise for a peop\"\n",
      "rlin wit and sand. it is wise for a people to his adman\", to an ingerstand, and the tain in though indolek of a famphimater cannot age steme of\n",
      "highture. this ttath colemes but and tiader; noble; the doope whated to as tositive, somanks of in ause of the utsediance it must present adort.--and virtuest to heaviness maykernt of perways of hose but to mare and aratal requerts became--and daploif,uled brought regardrously withed to some\n",
      "cha\n",
      "----- diversity: 1.2\n",
      "----- Generating with seed: \"rlin wit and sand. it is wise for a peop\"\n",
      "rlin wit and sand. it is wise for a peops, how sheme.venment, at name\n",
      "than the telived, the\n",
      "\"moraceorns, anxire are reliauate othes\n",
      "a to the part more\n",
      "action, not certuateness to aasomhling to humanis, for\n",
      "trea cane\" beaking of the eyes above it love, the spiub every\n",
      "sendorar. \n",
      "ofight or withor conbution of its\n",
      "like as it as all to hadut us assialty, po be absurth that,\" ruan, uchen ayegy lesnor, when cancand. their lotions of hisnems, \n",
      "Epoch 3/3\n",
      "200285/200285 [==============================] - 197s 983us/step - loss: 1.5594\n",
      "\n",
      "----- Generating text after Epoch: 2\n",
      "----- diversity: 0.2\n",
      "----- Generating with seed: \"the religious mood\n",
      "\n",
      "\n",
      "45. the human soul \"\n",
      "the religious mood\n",
      "\n",
      "\n",
      "45. the human soul and the soul and which the self-sufferer of the self-such a soul to the proces and which the soul of the strength and the soul to the self-sakenity and the soul and the strength and the soul and the soul that the such any moral to the strength and something the self-sake of the soul to the sise the soul and any be desire to the sole and the soul to the soul and the soul of the soul and desire of t\n",
      "----- diversity: 0.5\n",
      "----- Generating with seed: \"the religious mood\n",
      "\n",
      "\n",
      "45. the human soul \"\n",
      "the religious mood\n",
      "\n",
      "\n",
      "45. the human soul and happening express of undessies and the danger of the besides and the world, the world and the self..\n",
      "\n",
      "\n",
      "122. and the power and of action of the soul the respected to the problem of earled be sensible and the sempery\n",
      "semmining and the soleting which all one may be any fail have the self-and the\n",
      "daywary is one inding to the consequence, the enough, there are strength of the deperent in the world \n",
      "----- diversity: 1.0\n",
      "----- Generating with seed: \"the religious mood\n",
      "\n",
      "\n",
      "45. the human soul \"\n",
      "the religious mood\n",
      "\n",
      "\n",
      "45. the human soul oney the old, a neas, in\n",
      "epporetions of sisin the world sufferer any disswive oneforrted pletimad, graborifys, constintt\n",
      "noble that the most, towanid higher future, happer which a slugilly\n",
      "does wagramed,\n",
      "somethingme be smstater\n",
      "longnedily, as he  manure in their lons what case\n",
      "wisele\" brought and neternate accomy consider generations, so new\n",
      "thmobly\n",
      "anval suchtany of the strength noradakind very\n",
      "p\n",
      "----- diversity: 1.2\n",
      "----- Generating with seed: \"the religious mood\n",
      "\n",
      "\n",
      "45. the human soul \"\n",
      "the religious mood\n",
      "\n",
      "\n",
      "45. the human soul \n",
      "out, love\n",
      "wordour of vegaie on\n",
      "developher\" at even trinquid meal nowagosient other thst-and as weasward day first\n",
      "belief opharbing to hor vinwares unconsi-to ond and to us conquersis of thewevoi,\n",
      "not grew.\n",
      "bather fichesofw\n",
      "endegrly, leass whomantic of utse\n",
      "utcelphare forced\n",
      "at a moxalover,\"\n",
      "it wantequently purpo were that ellves,\n",
      "that profourdomes, not life that\n",
      "philosotherly non-godpse blodiy ha\n"
     ]
    },
    {
     "data": {
      "text/plain": [
       "<keras.callbacks.History at 0x18463ed5f8>"
      ]
     },
     "execution_count": 9,
     "metadata": {},
     "output_type": "execute_result"
    }
   ],
   "source": [
    "print_callback = LambdaCallback(on_epoch_end=on_epoch_end)\n",
    "\n",
    "model.fit(x, y,\n",
    "          batch_size=128,\n",
    "          epochs=3,\n",
    "          callbacks=[print_callback])"
   ]
  },
  {
   "cell_type": "code",
   "execution_count": null,
   "metadata": {},
   "outputs": [],
   "source": []
  }
 ],
 "metadata": {
  "kernelspec": {
   "display_name": "Python 3",
   "language": "python",
   "name": "python3"
  },
  "language_info": {
   "codemirror_mode": {
    "name": "ipython",
    "version": 3
   },
   "file_extension": ".py",
   "mimetype": "text/x-python",
   "name": "python",
   "nbconvert_exporter": "python",
   "pygments_lexer": "ipython3",
   "version": "3.6.4"
  }
 },
 "nbformat": 4,
 "nbformat_minor": 2
}
